{
  "cells": [
    {
      "cell_type": "markdown",
      "metadata": {
        "id": "view-in-github",
        "colab_type": "text"
      },
      "source": [
        "<a href=\"https://colab.research.google.com/github/thatg33kyguy/PythonSalesAnalytics/blob/main/.ipynb_checkpoints/Diwali_Sales_Analysis-checkpoint.ipynb\" target=\"_parent\"><img src=\"https://colab.research.google.com/assets/colab-badge.svg\" alt=\"Open In Colab\"/></a>"
      ]
    },
    {
      "cell_type": "code",
      "execution_count": 1,
      "id": "0979edbb",
      "metadata": {
        "id": "0979edbb"
      },
      "outputs": [],
      "source": [
        "# import python libraries\n",
        "\n",
        "import numpy as np\n",
        "import pandas as pd\n",
        "import matplotlib.pyplot as plt # visualizing data\n",
        "%matplotlib inline\n",
        "import seaborn as sns"
      ]
    },
    {
      "cell_type": "code",
      "execution_count": 2,
      "id": "7fbfb436",
      "metadata": {
        "id": "7fbfb436",
        "outputId": "10da89e8-ccf9-4bfe-e3d9-9cf142724f0e",
        "colab": {
          "base_uri": "https://localhost:8080/",
          "height": 304
        }
      },
      "outputs": [
        {
          "output_type": "error",
          "ename": "FileNotFoundError",
          "evalue": "[Errno 2] No such file or directory: 'Diwali Sales Data.csv'",
          "traceback": [
            "\u001b[0;31m---------------------------------------------------------------------------\u001b[0m",
            "\u001b[0;31mFileNotFoundError\u001b[0m                         Traceback (most recent call last)",
            "\u001b[0;32m/tmp/ipython-input-235610189.py\u001b[0m in \u001b[0;36m<cell line: 0>\u001b[0;34m()\u001b[0m\n\u001b[1;32m      1\u001b[0m \u001b[0;31m# import csv file\u001b[0m\u001b[0;34m\u001b[0m\u001b[0;34m\u001b[0m\u001b[0m\n\u001b[0;32m----> 2\u001b[0;31m \u001b[0mdf\u001b[0m \u001b[0;34m=\u001b[0m \u001b[0mpd\u001b[0m\u001b[0;34m.\u001b[0m\u001b[0mread_csv\u001b[0m\u001b[0;34m(\u001b[0m\u001b[0;34m'Diwali Sales Data.csv'\u001b[0m\u001b[0;34m,\u001b[0m \u001b[0mencoding\u001b[0m\u001b[0;34m=\u001b[0m \u001b[0;34m'unicode_escape'\u001b[0m\u001b[0;34m)\u001b[0m\u001b[0;34m\u001b[0m\u001b[0;34m\u001b[0m\u001b[0m\n\u001b[0m",
            "\u001b[0;32m/usr/local/lib/python3.11/dist-packages/pandas/io/parsers/readers.py\u001b[0m in \u001b[0;36mread_csv\u001b[0;34m(filepath_or_buffer, sep, delimiter, header, names, index_col, usecols, dtype, engine, converters, true_values, false_values, skipinitialspace, skiprows, skipfooter, nrows, na_values, keep_default_na, na_filter, verbose, skip_blank_lines, parse_dates, infer_datetime_format, keep_date_col, date_parser, date_format, dayfirst, cache_dates, iterator, chunksize, compression, thousands, decimal, lineterminator, quotechar, quoting, doublequote, escapechar, comment, encoding, encoding_errors, dialect, on_bad_lines, delim_whitespace, low_memory, memory_map, float_precision, storage_options, dtype_backend)\u001b[0m\n\u001b[1;32m   1024\u001b[0m     \u001b[0mkwds\u001b[0m\u001b[0;34m.\u001b[0m\u001b[0mupdate\u001b[0m\u001b[0;34m(\u001b[0m\u001b[0mkwds_defaults\u001b[0m\u001b[0;34m)\u001b[0m\u001b[0;34m\u001b[0m\u001b[0;34m\u001b[0m\u001b[0m\n\u001b[1;32m   1025\u001b[0m \u001b[0;34m\u001b[0m\u001b[0m\n\u001b[0;32m-> 1026\u001b[0;31m     \u001b[0;32mreturn\u001b[0m \u001b[0m_read\u001b[0m\u001b[0;34m(\u001b[0m\u001b[0mfilepath_or_buffer\u001b[0m\u001b[0;34m,\u001b[0m \u001b[0mkwds\u001b[0m\u001b[0;34m)\u001b[0m\u001b[0;34m\u001b[0m\u001b[0;34m\u001b[0m\u001b[0m\n\u001b[0m\u001b[1;32m   1027\u001b[0m \u001b[0;34m\u001b[0m\u001b[0m\n\u001b[1;32m   1028\u001b[0m \u001b[0;34m\u001b[0m\u001b[0m\n",
            "\u001b[0;32m/usr/local/lib/python3.11/dist-packages/pandas/io/parsers/readers.py\u001b[0m in \u001b[0;36m_read\u001b[0;34m(filepath_or_buffer, kwds)\u001b[0m\n\u001b[1;32m    618\u001b[0m \u001b[0;34m\u001b[0m\u001b[0m\n\u001b[1;32m    619\u001b[0m     \u001b[0;31m# Create the parser.\u001b[0m\u001b[0;34m\u001b[0m\u001b[0;34m\u001b[0m\u001b[0m\n\u001b[0;32m--> 620\u001b[0;31m     \u001b[0mparser\u001b[0m \u001b[0;34m=\u001b[0m \u001b[0mTextFileReader\u001b[0m\u001b[0;34m(\u001b[0m\u001b[0mfilepath_or_buffer\u001b[0m\u001b[0;34m,\u001b[0m \u001b[0;34m**\u001b[0m\u001b[0mkwds\u001b[0m\u001b[0;34m)\u001b[0m\u001b[0;34m\u001b[0m\u001b[0;34m\u001b[0m\u001b[0m\n\u001b[0m\u001b[1;32m    621\u001b[0m \u001b[0;34m\u001b[0m\u001b[0m\n\u001b[1;32m    622\u001b[0m     \u001b[0;32mif\u001b[0m \u001b[0mchunksize\u001b[0m \u001b[0;32mor\u001b[0m \u001b[0miterator\u001b[0m\u001b[0;34m:\u001b[0m\u001b[0;34m\u001b[0m\u001b[0;34m\u001b[0m\u001b[0m\n",
            "\u001b[0;32m/usr/local/lib/python3.11/dist-packages/pandas/io/parsers/readers.py\u001b[0m in \u001b[0;36m__init__\u001b[0;34m(self, f, engine, **kwds)\u001b[0m\n\u001b[1;32m   1618\u001b[0m \u001b[0;34m\u001b[0m\u001b[0m\n\u001b[1;32m   1619\u001b[0m         \u001b[0mself\u001b[0m\u001b[0;34m.\u001b[0m\u001b[0mhandles\u001b[0m\u001b[0;34m:\u001b[0m \u001b[0mIOHandles\u001b[0m \u001b[0;34m|\u001b[0m \u001b[0;32mNone\u001b[0m \u001b[0;34m=\u001b[0m \u001b[0;32mNone\u001b[0m\u001b[0;34m\u001b[0m\u001b[0;34m\u001b[0m\u001b[0m\n\u001b[0;32m-> 1620\u001b[0;31m         \u001b[0mself\u001b[0m\u001b[0;34m.\u001b[0m\u001b[0m_engine\u001b[0m \u001b[0;34m=\u001b[0m \u001b[0mself\u001b[0m\u001b[0;34m.\u001b[0m\u001b[0m_make_engine\u001b[0m\u001b[0;34m(\u001b[0m\u001b[0mf\u001b[0m\u001b[0;34m,\u001b[0m \u001b[0mself\u001b[0m\u001b[0;34m.\u001b[0m\u001b[0mengine\u001b[0m\u001b[0;34m)\u001b[0m\u001b[0;34m\u001b[0m\u001b[0;34m\u001b[0m\u001b[0m\n\u001b[0m\u001b[1;32m   1621\u001b[0m \u001b[0;34m\u001b[0m\u001b[0m\n\u001b[1;32m   1622\u001b[0m     \u001b[0;32mdef\u001b[0m \u001b[0mclose\u001b[0m\u001b[0;34m(\u001b[0m\u001b[0mself\u001b[0m\u001b[0;34m)\u001b[0m \u001b[0;34m->\u001b[0m \u001b[0;32mNone\u001b[0m\u001b[0;34m:\u001b[0m\u001b[0;34m\u001b[0m\u001b[0;34m\u001b[0m\u001b[0m\n",
            "\u001b[0;32m/usr/local/lib/python3.11/dist-packages/pandas/io/parsers/readers.py\u001b[0m in \u001b[0;36m_make_engine\u001b[0;34m(self, f, engine)\u001b[0m\n\u001b[1;32m   1878\u001b[0m                 \u001b[0;32mif\u001b[0m \u001b[0;34m\"b\"\u001b[0m \u001b[0;32mnot\u001b[0m \u001b[0;32min\u001b[0m \u001b[0mmode\u001b[0m\u001b[0;34m:\u001b[0m\u001b[0;34m\u001b[0m\u001b[0;34m\u001b[0m\u001b[0m\n\u001b[1;32m   1879\u001b[0m                     \u001b[0mmode\u001b[0m \u001b[0;34m+=\u001b[0m \u001b[0;34m\"b\"\u001b[0m\u001b[0;34m\u001b[0m\u001b[0;34m\u001b[0m\u001b[0m\n\u001b[0;32m-> 1880\u001b[0;31m             self.handles = get_handle(\n\u001b[0m\u001b[1;32m   1881\u001b[0m                 \u001b[0mf\u001b[0m\u001b[0;34m,\u001b[0m\u001b[0;34m\u001b[0m\u001b[0;34m\u001b[0m\u001b[0m\n\u001b[1;32m   1882\u001b[0m                 \u001b[0mmode\u001b[0m\u001b[0;34m,\u001b[0m\u001b[0;34m\u001b[0m\u001b[0;34m\u001b[0m\u001b[0m\n",
            "\u001b[0;32m/usr/local/lib/python3.11/dist-packages/pandas/io/common.py\u001b[0m in \u001b[0;36mget_handle\u001b[0;34m(path_or_buf, mode, encoding, compression, memory_map, is_text, errors, storage_options)\u001b[0m\n\u001b[1;32m    871\u001b[0m         \u001b[0;32mif\u001b[0m \u001b[0mioargs\u001b[0m\u001b[0;34m.\u001b[0m\u001b[0mencoding\u001b[0m \u001b[0;32mand\u001b[0m \u001b[0;34m\"b\"\u001b[0m \u001b[0;32mnot\u001b[0m \u001b[0;32min\u001b[0m \u001b[0mioargs\u001b[0m\u001b[0;34m.\u001b[0m\u001b[0mmode\u001b[0m\u001b[0;34m:\u001b[0m\u001b[0;34m\u001b[0m\u001b[0;34m\u001b[0m\u001b[0m\n\u001b[1;32m    872\u001b[0m             \u001b[0;31m# Encoding\u001b[0m\u001b[0;34m\u001b[0m\u001b[0;34m\u001b[0m\u001b[0m\n\u001b[0;32m--> 873\u001b[0;31m             handle = open(\n\u001b[0m\u001b[1;32m    874\u001b[0m                 \u001b[0mhandle\u001b[0m\u001b[0;34m,\u001b[0m\u001b[0;34m\u001b[0m\u001b[0;34m\u001b[0m\u001b[0m\n\u001b[1;32m    875\u001b[0m                 \u001b[0mioargs\u001b[0m\u001b[0;34m.\u001b[0m\u001b[0mmode\u001b[0m\u001b[0;34m,\u001b[0m\u001b[0;34m\u001b[0m\u001b[0;34m\u001b[0m\u001b[0m\n",
            "\u001b[0;31mFileNotFoundError\u001b[0m: [Errno 2] No such file or directory: 'Diwali Sales Data.csv'"
          ]
        }
      ],
      "source": [
        "# import csv file\n",
        "df = pd.read_csv('Diwali Sales Data.csv', encoding= 'unicode_escape')"
      ]
    },
    {
      "cell_type": "code",
      "execution_count": null,
      "id": "b8db4a5b",
      "metadata": {
        "id": "b8db4a5b"
      },
      "outputs": [],
      "source": [
        "df.shape"
      ]
    },
    {
      "cell_type": "code",
      "execution_count": null,
      "id": "662c471c",
      "metadata": {
        "id": "662c471c"
      },
      "outputs": [],
      "source": [
        "df.head()"
      ]
    },
    {
      "cell_type": "code",
      "execution_count": null,
      "id": "0814c45b",
      "metadata": {
        "id": "0814c45b"
      },
      "outputs": [],
      "source": [
        "df.info()"
      ]
    },
    {
      "cell_type": "code",
      "execution_count": null,
      "id": "29afa95b",
      "metadata": {
        "id": "29afa95b"
      },
      "outputs": [],
      "source": [
        "#drop unrelated/blank columns\n",
        "df.drop(['Status', 'unnamed1'], axis=1, inplace=True)"
      ]
    },
    {
      "cell_type": "code",
      "execution_count": null,
      "id": "5cee58eb",
      "metadata": {
        "id": "5cee58eb"
      },
      "outputs": [],
      "source": [
        "#check for null values\n",
        "pd.isnull(df).sum()"
      ]
    },
    {
      "cell_type": "code",
      "execution_count": null,
      "id": "65de74e3",
      "metadata": {
        "id": "65de74e3"
      },
      "outputs": [],
      "source": [
        "# drop null values\n",
        "df.dropna(inplace=True)"
      ]
    },
    {
      "cell_type": "code",
      "execution_count": null,
      "id": "14e4ff48",
      "metadata": {
        "id": "14e4ff48"
      },
      "outputs": [],
      "source": [
        "# change data type\n",
        "df['Amount'] = df['Amount'].astype('int')"
      ]
    },
    {
      "cell_type": "code",
      "execution_count": null,
      "id": "aa6752dc",
      "metadata": {
        "id": "aa6752dc"
      },
      "outputs": [],
      "source": [
        "df['Amount'].dtypes"
      ]
    },
    {
      "cell_type": "code",
      "execution_count": null,
      "id": "5f723a99",
      "metadata": {
        "id": "5f723a99"
      },
      "outputs": [],
      "source": [
        "df.columns"
      ]
    },
    {
      "cell_type": "code",
      "execution_count": null,
      "id": "a85bb3c3",
      "metadata": {
        "id": "a85bb3c3"
      },
      "outputs": [],
      "source": [
        "#rename column\n",
        "df.rename(columns= {'Marital_Status':'Shaadi'})"
      ]
    },
    {
      "cell_type": "code",
      "execution_count": null,
      "id": "a2484863",
      "metadata": {
        "id": "a2484863"
      },
      "outputs": [],
      "source": [
        "# describe() method returns description of the data in the DataFrame (i.e. count, mean, std, etc)\n",
        "df.describe()"
      ]
    },
    {
      "cell_type": "code",
      "execution_count": null,
      "id": "2c380030",
      "metadata": {
        "id": "2c380030"
      },
      "outputs": [],
      "source": [
        "# use describe() for specific columns\n",
        "df[['Age', 'Orders', 'Amount']].describe()"
      ]
    },
    {
      "cell_type": "markdown",
      "id": "cc649558",
      "metadata": {
        "id": "cc649558"
      },
      "source": [
        "# Exploratory Data Analysis"
      ]
    },
    {
      "cell_type": "markdown",
      "id": "504b419c",
      "metadata": {
        "id": "504b419c"
      },
      "source": [
        "### Gender"
      ]
    },
    {
      "cell_type": "code",
      "execution_count": null,
      "id": "84c7918d",
      "metadata": {
        "scrolled": false,
        "id": "84c7918d"
      },
      "outputs": [],
      "source": [
        "# plotting a bar chart for Gender and it's count\n",
        "\n",
        "ax = sns.countplot(x = 'Gender',data = df)\n",
        "\n",
        "for bars in ax.containers:\n",
        "    ax.bar_label(bars)"
      ]
    },
    {
      "cell_type": "code",
      "execution_count": null,
      "id": "c5fd4566",
      "metadata": {
        "id": "c5fd4566"
      },
      "outputs": [],
      "source": [
        "# plotting a bar chart for gender vs total amount\n",
        "\n",
        "sales_gen = df.groupby(['Gender'], as_index=False)['Amount'].sum().sort_values(by='Amount', ascending=False)\n",
        "\n",
        "sns.barplot(x = 'Gender',y= 'Amount' ,data = sales_gen)"
      ]
    },
    {
      "cell_type": "markdown",
      "id": "1e108cec",
      "metadata": {
        "id": "1e108cec"
      },
      "source": [
        "*From above graphs we can see that most of the buyers are females and even the purchasing power of females are greater than men*"
      ]
    },
    {
      "cell_type": "markdown",
      "id": "dcc927f9",
      "metadata": {
        "id": "dcc927f9"
      },
      "source": [
        "### Age"
      ]
    },
    {
      "cell_type": "code",
      "execution_count": null,
      "id": "88563dec",
      "metadata": {
        "id": "88563dec"
      },
      "outputs": [],
      "source": [
        "ax = sns.countplot(data = df, x = 'Age Group', hue = 'Gender')\n",
        "\n",
        "for bars in ax.containers:\n",
        "    ax.bar_label(bars)"
      ]
    },
    {
      "cell_type": "code",
      "execution_count": null,
      "id": "bfbe3937",
      "metadata": {
        "id": "bfbe3937"
      },
      "outputs": [],
      "source": [
        "# Total Amount vs Age Group\n",
        "sales_age = df.groupby(['Age Group'], as_index=False)['Amount'].sum().sort_values(by='Amount', ascending=False)\n",
        "\n",
        "sns.barplot(x = 'Age Group',y= 'Amount' ,data = sales_age)"
      ]
    },
    {
      "cell_type": "markdown",
      "id": "abaa6c07",
      "metadata": {
        "id": "abaa6c07"
      },
      "source": [
        "*From above graphs we can see that most of the buyers are of age group between 26-35 yrs female*"
      ]
    },
    {
      "cell_type": "markdown",
      "id": "83a49098",
      "metadata": {
        "id": "83a49098"
      },
      "source": [
        "### State"
      ]
    },
    {
      "cell_type": "code",
      "execution_count": null,
      "id": "dfac4f2c",
      "metadata": {
        "id": "dfac4f2c"
      },
      "outputs": [],
      "source": [
        "# total number of orders from top 10 states\n",
        "\n",
        "sales_state = df.groupby(['State'], as_index=False)['Orders'].sum().sort_values(by='Orders', ascending=False).head(10)\n",
        "\n",
        "sns.set(rc={'figure.figsize':(15,5)})\n",
        "sns.barplot(data = sales_state, x = 'State',y= 'Orders')"
      ]
    },
    {
      "cell_type": "code",
      "execution_count": null,
      "id": "a66617bc",
      "metadata": {
        "id": "a66617bc"
      },
      "outputs": [],
      "source": [
        "# total amount/sales from top 10 states\n",
        "\n",
        "sales_state = df.groupby(['State'], as_index=False)['Amount'].sum().sort_values(by='Amount', ascending=False).head(10)\n",
        "\n",
        "sns.set(rc={'figure.figsize':(15,5)})\n",
        "sns.barplot(data = sales_state, x = 'State',y= 'Amount')"
      ]
    },
    {
      "cell_type": "markdown",
      "id": "39d46e9e",
      "metadata": {
        "id": "39d46e9e"
      },
      "source": [
        "*From above graphs we can see that most of the orders & total sales/amount are from Uttar Pradesh, Maharashtra and Karnataka respectively*\n"
      ]
    },
    {
      "cell_type": "markdown",
      "id": "89f865a5",
      "metadata": {
        "id": "89f865a5"
      },
      "source": [
        "### Marital Status"
      ]
    },
    {
      "cell_type": "code",
      "execution_count": null,
      "id": "77e6635e",
      "metadata": {
        "id": "77e6635e"
      },
      "outputs": [],
      "source": [
        "ax = sns.countplot(data = df, x = 'Marital_Status')\n",
        "\n",
        "sns.set(rc={'figure.figsize':(7,5)})\n",
        "for bars in ax.containers:\n",
        "    ax.bar_label(bars)"
      ]
    },
    {
      "cell_type": "code",
      "execution_count": null,
      "id": "2d8c7b27",
      "metadata": {
        "id": "2d8c7b27"
      },
      "outputs": [],
      "source": [
        "sales_state = df.groupby(['Marital_Status', 'Gender'], as_index=False)['Amount'].sum().sort_values(by='Amount', ascending=False)\n",
        "\n",
        "sns.set(rc={'figure.figsize':(6,5)})\n",
        "sns.barplot(data = sales_state, x = 'Marital_Status',y= 'Amount', hue='Gender')"
      ]
    },
    {
      "cell_type": "markdown",
      "id": "37afbb83",
      "metadata": {
        "id": "37afbb83"
      },
      "source": [
        "*From above graphs we can see that most of the buyers are married (women) and they have high purchasing power*"
      ]
    },
    {
      "cell_type": "markdown",
      "id": "230cfe66",
      "metadata": {
        "id": "230cfe66"
      },
      "source": [
        "### Occupation"
      ]
    },
    {
      "cell_type": "code",
      "execution_count": null,
      "id": "4deb41f4",
      "metadata": {
        "id": "4deb41f4"
      },
      "outputs": [],
      "source": [
        "sns.set(rc={'figure.figsize':(20,5)})\n",
        "ax = sns.countplot(data = df, x = 'Occupation')\n",
        "\n",
        "for bars in ax.containers:\n",
        "    ax.bar_label(bars)"
      ]
    },
    {
      "cell_type": "code",
      "execution_count": null,
      "id": "4eb620f6",
      "metadata": {
        "id": "4eb620f6"
      },
      "outputs": [],
      "source": [
        "sales_state = df.groupby(['Occupation'], as_index=False)['Amount'].sum().sort_values(by='Amount', ascending=False)\n",
        "\n",
        "sns.set(rc={'figure.figsize':(20,5)})\n",
        "sns.barplot(data = sales_state, x = 'Occupation',y= 'Amount')"
      ]
    },
    {
      "cell_type": "markdown",
      "id": "26c22532",
      "metadata": {
        "id": "26c22532"
      },
      "source": [
        "*From above graphs we can see that most of the buyers are working in IT, Healthcare and Aviation sector*"
      ]
    },
    {
      "cell_type": "markdown",
      "id": "40518579",
      "metadata": {
        "id": "40518579"
      },
      "source": [
        "### Product Category"
      ]
    },
    {
      "cell_type": "code",
      "execution_count": null,
      "id": "3e7e4d39",
      "metadata": {
        "id": "3e7e4d39"
      },
      "outputs": [],
      "source": [
        "sns.set(rc={'figure.figsize':(20,5)})\n",
        "ax = sns.countplot(data = df, x = 'Product_Category')\n",
        "\n",
        "for bars in ax.containers:\n",
        "    ax.bar_label(bars)"
      ]
    },
    {
      "cell_type": "code",
      "execution_count": null,
      "id": "99f5c6f3",
      "metadata": {
        "id": "99f5c6f3"
      },
      "outputs": [],
      "source": [
        "sales_state = df.groupby(['Product_Category'], as_index=False)['Amount'].sum().sort_values(by='Amount', ascending=False).head(10)\n",
        "\n",
        "sns.set(rc={'figure.figsize':(20,5)})\n",
        "sns.barplot(data = sales_state, x = 'Product_Category',y= 'Amount')"
      ]
    },
    {
      "cell_type": "markdown",
      "id": "5be54973",
      "metadata": {
        "id": "5be54973"
      },
      "source": [
        "*From above graphs we can see that most of the sold products are from Food, Clothing and Electronics category*"
      ]
    },
    {
      "cell_type": "code",
      "execution_count": null,
      "id": "f33d23c7",
      "metadata": {
        "id": "f33d23c7"
      },
      "outputs": [],
      "source": [
        "sales_state = df.groupby(['Product_ID'], as_index=False)['Orders'].sum().sort_values(by='Orders', ascending=False).head(10)\n",
        "\n",
        "sns.set(rc={'figure.figsize':(20,5)})\n",
        "sns.barplot(data = sales_state, x = 'Product_ID',y= 'Orders')"
      ]
    },
    {
      "cell_type": "code",
      "execution_count": null,
      "id": "17d2bb43",
      "metadata": {
        "id": "17d2bb43"
      },
      "outputs": [],
      "source": [
        "# top 10 most sold products (same thing as above)\n",
        "\n",
        "fig1, ax1 = plt.subplots(figsize=(12,7))\n",
        "df.groupby('Product_ID')['Orders'].sum().nlargest(10).sort_values(ascending=False).plot(kind='bar')"
      ]
    },
    {
      "cell_type": "markdown",
      "id": "31f88f63",
      "metadata": {
        "id": "31f88f63"
      },
      "source": [
        "## Conclusion:\n",
        "\n",
        "###"
      ]
    },
    {
      "cell_type": "markdown",
      "id": "56e52bca",
      "metadata": {
        "id": "56e52bca"
      },
      "source": [
        "*Married women age group 26-35 yrs from UP,  Maharastra and Karnataka working in IT, Healthcare and Aviation are more likely to buy products from Food, Clothing and Electronics category*"
      ]
    },
    {
      "cell_type": "markdown",
      "id": "1e91055b",
      "metadata": {
        "id": "1e91055b"
      },
      "source": [
        "complete project on YouTube: https://www.youtube.com/@RishabhMishraOfficial\n",
        "    \n",
        "complete project on GitHub: https://github.com/rishabhnmishra/Python_Diwali_Sales_Analysis"
      ]
    },
    {
      "cell_type": "markdown",
      "id": "d7bfbc58",
      "metadata": {
        "id": "d7bfbc58"
      },
      "source": [
        "Thank you!"
      ]
    }
  ],
  "metadata": {
    "kernelspec": {
      "display_name": "Python 3 (ipykernel)",
      "language": "python",
      "name": "python3"
    },
    "language_info": {
      "codemirror_mode": {
        "name": "ipython",
        "version": 3
      },
      "file_extension": ".py",
      "mimetype": "text/x-python",
      "name": "python",
      "nbconvert_exporter": "python",
      "pygments_lexer": "ipython3",
      "version": "3.11.2"
    },
    "colab": {
      "provenance": [],
      "include_colab_link": true
    }
  },
  "nbformat": 4,
  "nbformat_minor": 5
}